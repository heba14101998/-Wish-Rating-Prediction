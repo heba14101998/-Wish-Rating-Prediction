{
  "nbformat": 4,
  "nbformat_minor": 0,
  "metadata": {
    "colab": {
      "provenance": []
    },
    "kernelspec": {
      "name": "python3",
      "display_name": "Python 3"
    },
    "language_info": {
      "name": "python"
    }
  },
  "cells": [
    {
      "cell_type": "markdown",
      "source": [
        "\n",
        "_________________\n",
        "<h1 align=\"center\"><span style='font-family:Georgia'> PRODUCT RATING PREDICTION </span></h1>\n",
        "\n",
        "_________________\n",
        "\n",
        "### **Date**:  18-03-2023\n",
        "\n",
        "### **Problem Statement:**\n",
        "The rise in e-commerce has brought a significant increase in the importance of customer reviews. There are hundreds of online review sites and massive reviews for every product. \n",
        "\n",
        "When you have a new product to be put on wish.com, you can estimate how likely people will like your product, without actually listing out there. It also allows us to understand what conditions will make a product highly rated on wish.com, as a way of understanding their customer base.\n",
        "\n",
        "### **Notebook Description**:  \n",
        "This notebook is intended to predict the product ratings given the other features known for a product on `Wish.com`. Ratings are in categories from 1 to 5. For one product, the higher the rating is, the more the customers like the product. \n",
        "\n",
        "### **Dataset Description:**\n",
        "\n",
        "### **Workflow:**\n",
        "I will create a graph here\n",
        "### **Deliverable:**\n",
        " A python notebook containing the documentation of the final design as well as the answers to the questions.\n",
        "\n",
        "\n",
        "\n"
      ],
      "metadata": {
        "id": "xBcSXpRXbrvr"
      }
    },
    {
      "cell_type": "markdown",
      "source": [
        "_________________\n",
        "\n",
        "\n",
        "<h1 align=\"center\"><span style='font-family:Georgia'>TABLE OF CONTENTS </span></h1>\n",
        "\n",
        "_________________\n",
        "\n",
        "* [Setup](#0.0)\n",
        "  - [Import Dependencies](0.0)\n",
        "* [Load Dataset](#1.0)\n",
        "  - [Dataset Overview](#1.1) \n",
        "* [Data Cleaning](#2.0)\n",
        "  - [Removing Duplicates ](#2.1)\n",
        "  - [Handle Missing Values](#2.2)\n",
        "  - [Remove Irrelevant Data](#2.2)\n",
        "  - [Convert Data Type](#2.3)\n",
        "  - [Handling Outliers](#2.4)\n",
        "* [Exploratory Data Analysis (EDA)](#3.0)\n",
        "* [Feature Engineering](#4.0)   \n",
        "* [Data Modeling](#5.0)\n",
        "    - [Splitting dataset to train and test sets](#5.1)\n",
        "* [Conclusion wih visualization](#6.0)"
      ],
      "metadata": {
        "id": "xHkdtnPMNlTp"
      }
    },
    {
      "cell_type": "markdown",
      "source": [
        "_________________\n",
        "<h1 align=\"center\"><span style='font-family:Georgia'>  SETUP</span></h1>\n",
        "\n",
        "_________________"
      ],
      "metadata": {
        "id": "9iM4WA9iSTJh"
      }
    },
    {
      "cell_type": "code",
      "source": [
        "import numpy as np \n",
        "import pandas as pd\n",
        "pd.set_option('display.max_columns', 100)\n",
        "\n",
        "######################## for creating graphs ################\n",
        "import plotly.express as px\n",
        "import seaborn as sns\n",
        "import matplotlib as mt\n",
        "import matplotlib.pyplot as plt\n",
        "\n",
        "# %pylab inline\n",
        "# plt.rc('figure', figsize=(12,9))\n",
        "# colors = sns.color_palette()\n",
        "import numpy as np\n",
        "import matplotlib.pyplot as plt\n",
        "from matplotlib import style\n",
        "  \n",
        "# using the style for the plot\n",
        "# plt.style.use('fivethirtyeight')\n",
        "\n",
        "######################## for modeling ########################\n",
        "from sklearn.model_selection import train_test_split, GridSearchCV\n",
        "from sklearn.preprocessing import StandardScaler\n",
        "from sklearn.metrics import accuracy_score, confusion_matrix, classification_report\n",
        "from sklearn.linear_model import LogisticRegression\n",
        "from sklearn.tree import DecisionTreeClassifier\n",
        "from sklearn.ensemble import RandomForestClassifier\n",
        "from xgboost import XGBClassifier\n"
      ],
      "metadata": {
        "id": "9XLHGTU_0jZL"
      },
      "execution_count": 1,
      "outputs": []
    },
    {
      "cell_type": "code",
      "source": [
        "# from bokeh.io import output_notebook \n",
        "# output_notebook()"
      ],
      "metadata": {
        "id": "4dhchd2L8dhp"
      },
      "execution_count": 2,
      "outputs": []
    },
    {
      "cell_type": "markdown",
      "source": [
        "_________________\n",
        "<h1 align=\"center\"><span style='font-family:Georgia'> Load Dataset </span></h1>\n",
        "\n",
        "_________________"
      ],
      "metadata": {
        "id": "2cOKOEoTQprh"
      }
    },
    {
      "cell_type": "code",
      "source": [
        "data = pd.read_csv('train_new.csv')\n",
        "data.head()"
      ],
      "metadata": {
        "colab": {
          "base_uri": "https://localhost:8080/",
          "height": 374
        },
        "id": "nsyIq_Rx1B9v",
        "outputId": "0eb1ba66-9866-489f-99e7-cdbed39afd79"
      },
      "execution_count": 3,
      "outputs": [
        {
          "output_type": "execute_result",
          "data": {
            "text/plain": [
              "   price  retail_price currency_buyer  units_sold  uses_ad_boosts  rating  \\\n",
              "0   8.00             7            EUR       10000               1     4.0   \n",
              "1   8.00             7            EUR        1000               0     4.0   \n",
              "2   6.00            34            EUR         100               0     4.0   \n",
              "3   4.67             4            EUR         100               1     3.0   \n",
              "4   8.00            11            EUR        1000               0     4.0   \n",
              "\n",
              "   rating_count  badges_count  badge_local_product  badge_product_quality  \\\n",
              "0          1670             0                    0                      0   \n",
              "1           843             1                    1                      0   \n",
              "2            10             0                    0                      0   \n",
              "3            82             0                    0                      0   \n",
              "4           127             0                    0                      0   \n",
              "\n",
              "   badge_fast_shipping                                               tags  \\\n",
              "0                    0  Summer,soildcolor,Plus Size,Tank,camisole,Tops...   \n",
              "1                    0  bathing suit,Plus Size,bikini set,sexy swimsui...   \n",
              "2                    0  Summer,Vest,momshirt,Get,summer t-shirts,funny...   \n",
              "3                    0  Summer,Shorts,pants,Beach,Plus Size,beachpant,...   \n",
              "4                    0  Summer,Floral print,women dresses,fashion dres...   \n",
              "\n",
              "  product_color product_variation_size_id  product_variation_inventory  \\\n",
              "0        yellow                         M                           50   \n",
              "1         black                         L                           50   \n",
              "2         white                         L                           50   \n",
              "3      lakeblue                        XS                            5   \n",
              "4       apricot                         S                           50   \n",
              "\n",
              "  shipping_option_name  shipping_option_price  shipping_is_express  \\\n",
              "0   Livraison standard                      3                    0   \n",
              "1   Livraison standard                      3                    0   \n",
              "2   Livraison standard                      2                    0   \n",
              "3   Livraison standard                      1                    0   \n",
              "4   Livraison standard                      3                    0   \n",
              "\n",
              "   countries_shipped_to  inventory_total  has_urgency_banner  \\\n",
              "0                    30               50                 NaN   \n",
              "1                    37               50                 NaN   \n",
              "2                    41               50                 NaN   \n",
              "3                    25               50                 NaN   \n",
              "4                    15               50                 1.0   \n",
              "\n",
              "         urgency_text origin_country                         merchant_title  \\\n",
              "0                 NaN             CN                             keepahorse   \n",
              "1                 NaN             CN  shanghaimingqidianqikejiyouxiangongsi   \n",
              "2                 NaN             CN                            zhaodongmei   \n",
              "3                 NaN             CN                             pookie0331   \n",
              "4  Quantité limitée !             CN                      shitongyi12683626   \n",
              "\n",
              "       merchant_name             merchant_info_subtitle  \\\n",
              "0         keepahorse  88 % avis positifs (66,644 notes)   \n",
              "1       上海铭启电气科技有限公司  91 % avis positifs (25,752 notes)   \n",
              "2        zhaodongmei   83 % avis positifs (3,897 notes)   \n",
              "3         pookie0331   87 % avis positifs (7,497 notes)   \n",
              "4  shitongyi12683626     91 % avis positifs (173 notes)   \n",
              "\n",
              "   merchant_rating_count  merchant_rating               merchant_id  \\\n",
              "0                  66644         4.137582  577fb2b368116418674befd9   \n",
              "1                  25752         4.256873  566a3ef17233ff2686443082   \n",
              "2                   3897         3.928920  5aacd6c1ccf0c83e5a6f3de0   \n",
              "3                   7497         4.079365  583141fbfef4094e51453d9b   \n",
              "4                    173         4.306358  5d3bc9f8e13a7e654424a4cb   \n",
              "\n",
              "   merchant_has_profile_picture  \\\n",
              "0                             1   \n",
              "1                             0   \n",
              "2                             0   \n",
              "3                             0   \n",
              "4                             0   \n",
              "\n",
              "                            merchant_profile_picture   theme crawl_month    id  \n",
              "0  https://s3-us-west-1.amazonaws.com/sweeper-pro...  summer     2020-08   272  \n",
              "1                                                NaN  summer     2020-08  1515  \n",
              "2                                                NaN  summer     2020-08   940  \n",
              "3                                                NaN  summer     2020-08   309  \n",
              "4                                                NaN  summer     2020-08   226  "
            ],
            "text/html": [
              "\n",
              "  <div id=\"df-cb48dffb-3fb8-4a2a-bbbb-7045041c1f43\">\n",
              "    <div class=\"colab-df-container\">\n",
              "      <div>\n",
              "<style scoped>\n",
              "    .dataframe tbody tr th:only-of-type {\n",
              "        vertical-align: middle;\n",
              "    }\n",
              "\n",
              "    .dataframe tbody tr th {\n",
              "        vertical-align: top;\n",
              "    }\n",
              "\n",
              "    .dataframe thead th {\n",
              "        text-align: right;\n",
              "    }\n",
              "</style>\n",
              "<table border=\"1\" class=\"dataframe\">\n",
              "  <thead>\n",
              "    <tr style=\"text-align: right;\">\n",
              "      <th></th>\n",
              "      <th>price</th>\n",
              "      <th>retail_price</th>\n",
              "      <th>currency_buyer</th>\n",
              "      <th>units_sold</th>\n",
              "      <th>uses_ad_boosts</th>\n",
              "      <th>rating</th>\n",
              "      <th>rating_count</th>\n",
              "      <th>badges_count</th>\n",
              "      <th>badge_local_product</th>\n",
              "      <th>badge_product_quality</th>\n",
              "      <th>badge_fast_shipping</th>\n",
              "      <th>tags</th>\n",
              "      <th>product_color</th>\n",
              "      <th>product_variation_size_id</th>\n",
              "      <th>product_variation_inventory</th>\n",
              "      <th>shipping_option_name</th>\n",
              "      <th>shipping_option_price</th>\n",
              "      <th>shipping_is_express</th>\n",
              "      <th>countries_shipped_to</th>\n",
              "      <th>inventory_total</th>\n",
              "      <th>has_urgency_banner</th>\n",
              "      <th>urgency_text</th>\n",
              "      <th>origin_country</th>\n",
              "      <th>merchant_title</th>\n",
              "      <th>merchant_name</th>\n",
              "      <th>merchant_info_subtitle</th>\n",
              "      <th>merchant_rating_count</th>\n",
              "      <th>merchant_rating</th>\n",
              "      <th>merchant_id</th>\n",
              "      <th>merchant_has_profile_picture</th>\n",
              "      <th>merchant_profile_picture</th>\n",
              "      <th>theme</th>\n",
              "      <th>crawl_month</th>\n",
              "      <th>id</th>\n",
              "    </tr>\n",
              "  </thead>\n",
              "  <tbody>\n",
              "    <tr>\n",
              "      <th>0</th>\n",
              "      <td>8.00</td>\n",
              "      <td>7</td>\n",
              "      <td>EUR</td>\n",
              "      <td>10000</td>\n",
              "      <td>1</td>\n",
              "      <td>4.0</td>\n",
              "      <td>1670</td>\n",
              "      <td>0</td>\n",
              "      <td>0</td>\n",
              "      <td>0</td>\n",
              "      <td>0</td>\n",
              "      <td>Summer,soildcolor,Plus Size,Tank,camisole,Tops...</td>\n",
              "      <td>yellow</td>\n",
              "      <td>M</td>\n",
              "      <td>50</td>\n",
              "      <td>Livraison standard</td>\n",
              "      <td>3</td>\n",
              "      <td>0</td>\n",
              "      <td>30</td>\n",
              "      <td>50</td>\n",
              "      <td>NaN</td>\n",
              "      <td>NaN</td>\n",
              "      <td>CN</td>\n",
              "      <td>keepahorse</td>\n",
              "      <td>keepahorse</td>\n",
              "      <td>88 % avis positifs (66,644 notes)</td>\n",
              "      <td>66644</td>\n",
              "      <td>4.137582</td>\n",
              "      <td>577fb2b368116418674befd9</td>\n",
              "      <td>1</td>\n",
              "      <td>https://s3-us-west-1.amazonaws.com/sweeper-pro...</td>\n",
              "      <td>summer</td>\n",
              "      <td>2020-08</td>\n",
              "      <td>272</td>\n",
              "    </tr>\n",
              "    <tr>\n",
              "      <th>1</th>\n",
              "      <td>8.00</td>\n",
              "      <td>7</td>\n",
              "      <td>EUR</td>\n",
              "      <td>1000</td>\n",
              "      <td>0</td>\n",
              "      <td>4.0</td>\n",
              "      <td>843</td>\n",
              "      <td>1</td>\n",
              "      <td>1</td>\n",
              "      <td>0</td>\n",
              "      <td>0</td>\n",
              "      <td>bathing suit,Plus Size,bikini set,sexy swimsui...</td>\n",
              "      <td>black</td>\n",
              "      <td>L</td>\n",
              "      <td>50</td>\n",
              "      <td>Livraison standard</td>\n",
              "      <td>3</td>\n",
              "      <td>0</td>\n",
              "      <td>37</td>\n",
              "      <td>50</td>\n",
              "      <td>NaN</td>\n",
              "      <td>NaN</td>\n",
              "      <td>CN</td>\n",
              "      <td>shanghaimingqidianqikejiyouxiangongsi</td>\n",
              "      <td>上海铭启电气科技有限公司</td>\n",
              "      <td>91 % avis positifs (25,752 notes)</td>\n",
              "      <td>25752</td>\n",
              "      <td>4.256873</td>\n",
              "      <td>566a3ef17233ff2686443082</td>\n",
              "      <td>0</td>\n",
              "      <td>NaN</td>\n",
              "      <td>summer</td>\n",
              "      <td>2020-08</td>\n",
              "      <td>1515</td>\n",
              "    </tr>\n",
              "    <tr>\n",
              "      <th>2</th>\n",
              "      <td>6.00</td>\n",
              "      <td>34</td>\n",
              "      <td>EUR</td>\n",
              "      <td>100</td>\n",
              "      <td>0</td>\n",
              "      <td>4.0</td>\n",
              "      <td>10</td>\n",
              "      <td>0</td>\n",
              "      <td>0</td>\n",
              "      <td>0</td>\n",
              "      <td>0</td>\n",
              "      <td>Summer,Vest,momshirt,Get,summer t-shirts,funny...</td>\n",
              "      <td>white</td>\n",
              "      <td>L</td>\n",
              "      <td>50</td>\n",
              "      <td>Livraison standard</td>\n",
              "      <td>2</td>\n",
              "      <td>0</td>\n",
              "      <td>41</td>\n",
              "      <td>50</td>\n",
              "      <td>NaN</td>\n",
              "      <td>NaN</td>\n",
              "      <td>CN</td>\n",
              "      <td>zhaodongmei</td>\n",
              "      <td>zhaodongmei</td>\n",
              "      <td>83 % avis positifs (3,897 notes)</td>\n",
              "      <td>3897</td>\n",
              "      <td>3.928920</td>\n",
              "      <td>5aacd6c1ccf0c83e5a6f3de0</td>\n",
              "      <td>0</td>\n",
              "      <td>NaN</td>\n",
              "      <td>summer</td>\n",
              "      <td>2020-08</td>\n",
              "      <td>940</td>\n",
              "    </tr>\n",
              "    <tr>\n",
              "      <th>3</th>\n",
              "      <td>4.67</td>\n",
              "      <td>4</td>\n",
              "      <td>EUR</td>\n",
              "      <td>100</td>\n",
              "      <td>1</td>\n",
              "      <td>3.0</td>\n",
              "      <td>82</td>\n",
              "      <td>0</td>\n",
              "      <td>0</td>\n",
              "      <td>0</td>\n",
              "      <td>0</td>\n",
              "      <td>Summer,Shorts,pants,Beach,Plus Size,beachpant,...</td>\n",
              "      <td>lakeblue</td>\n",
              "      <td>XS</td>\n",
              "      <td>5</td>\n",
              "      <td>Livraison standard</td>\n",
              "      <td>1</td>\n",
              "      <td>0</td>\n",
              "      <td>25</td>\n",
              "      <td>50</td>\n",
              "      <td>NaN</td>\n",
              "      <td>NaN</td>\n",
              "      <td>CN</td>\n",
              "      <td>pookie0331</td>\n",
              "      <td>pookie0331</td>\n",
              "      <td>87 % avis positifs (7,497 notes)</td>\n",
              "      <td>7497</td>\n",
              "      <td>4.079365</td>\n",
              "      <td>583141fbfef4094e51453d9b</td>\n",
              "      <td>0</td>\n",
              "      <td>NaN</td>\n",
              "      <td>summer</td>\n",
              "      <td>2020-08</td>\n",
              "      <td>309</td>\n",
              "    </tr>\n",
              "    <tr>\n",
              "      <th>4</th>\n",
              "      <td>8.00</td>\n",
              "      <td>11</td>\n",
              "      <td>EUR</td>\n",
              "      <td>1000</td>\n",
              "      <td>0</td>\n",
              "      <td>4.0</td>\n",
              "      <td>127</td>\n",
              "      <td>0</td>\n",
              "      <td>0</td>\n",
              "      <td>0</td>\n",
              "      <td>0</td>\n",
              "      <td>Summer,Floral print,women dresses,fashion dres...</td>\n",
              "      <td>apricot</td>\n",
              "      <td>S</td>\n",
              "      <td>50</td>\n",
              "      <td>Livraison standard</td>\n",
              "      <td>3</td>\n",
              "      <td>0</td>\n",
              "      <td>15</td>\n",
              "      <td>50</td>\n",
              "      <td>1.0</td>\n",
              "      <td>Quantité limitée !</td>\n",
              "      <td>CN</td>\n",
              "      <td>shitongyi12683626</td>\n",
              "      <td>shitongyi12683626</td>\n",
              "      <td>91 % avis positifs (173 notes)</td>\n",
              "      <td>173</td>\n",
              "      <td>4.306358</td>\n",
              "      <td>5d3bc9f8e13a7e654424a4cb</td>\n",
              "      <td>0</td>\n",
              "      <td>NaN</td>\n",
              "      <td>summer</td>\n",
              "      <td>2020-08</td>\n",
              "      <td>226</td>\n",
              "    </tr>\n",
              "  </tbody>\n",
              "</table>\n",
              "</div>\n",
              "      <button class=\"colab-df-convert\" onclick=\"convertToInteractive('df-cb48dffb-3fb8-4a2a-bbbb-7045041c1f43')\"\n",
              "              title=\"Convert this dataframe to an interactive table.\"\n",
              "              style=\"display:none;\">\n",
              "        \n",
              "  <svg xmlns=\"http://www.w3.org/2000/svg\" height=\"24px\"viewBox=\"0 0 24 24\"\n",
              "       width=\"24px\">\n",
              "    <path d=\"M0 0h24v24H0V0z\" fill=\"none\"/>\n",
              "    <path d=\"M18.56 5.44l.94 2.06.94-2.06 2.06-.94-2.06-.94-.94-2.06-.94 2.06-2.06.94zm-11 1L8.5 8.5l.94-2.06 2.06-.94-2.06-.94L8.5 2.5l-.94 2.06-2.06.94zm10 10l.94 2.06.94-2.06 2.06-.94-2.06-.94-.94-2.06-.94 2.06-2.06.94z\"/><path d=\"M17.41 7.96l-1.37-1.37c-.4-.4-.92-.59-1.43-.59-.52 0-1.04.2-1.43.59L10.3 9.45l-7.72 7.72c-.78.78-.78 2.05 0 2.83L4 21.41c.39.39.9.59 1.41.59.51 0 1.02-.2 1.41-.59l7.78-7.78 2.81-2.81c.8-.78.8-2.07 0-2.86zM5.41 20L4 18.59l7.72-7.72 1.47 1.35L5.41 20z\"/>\n",
              "  </svg>\n",
              "      </button>\n",
              "      \n",
              "  <style>\n",
              "    .colab-df-container {\n",
              "      display:flex;\n",
              "      flex-wrap:wrap;\n",
              "      gap: 12px;\n",
              "    }\n",
              "\n",
              "    .colab-df-convert {\n",
              "      background-color: #E8F0FE;\n",
              "      border: none;\n",
              "      border-radius: 50%;\n",
              "      cursor: pointer;\n",
              "      display: none;\n",
              "      fill: #1967D2;\n",
              "      height: 32px;\n",
              "      padding: 0 0 0 0;\n",
              "      width: 32px;\n",
              "    }\n",
              "\n",
              "    .colab-df-convert:hover {\n",
              "      background-color: #E2EBFA;\n",
              "      box-shadow: 0px 1px 2px rgba(60, 64, 67, 0.3), 0px 1px 3px 1px rgba(60, 64, 67, 0.15);\n",
              "      fill: #174EA6;\n",
              "    }\n",
              "\n",
              "    [theme=dark] .colab-df-convert {\n",
              "      background-color: #3B4455;\n",
              "      fill: #D2E3FC;\n",
              "    }\n",
              "\n",
              "    [theme=dark] .colab-df-convert:hover {\n",
              "      background-color: #434B5C;\n",
              "      box-shadow: 0px 1px 3px 1px rgba(0, 0, 0, 0.15);\n",
              "      filter: drop-shadow(0px 1px 2px rgba(0, 0, 0, 0.3));\n",
              "      fill: #FFFFFF;\n",
              "    }\n",
              "  </style>\n",
              "\n",
              "      <script>\n",
              "        const buttonEl =\n",
              "          document.querySelector('#df-cb48dffb-3fb8-4a2a-bbbb-7045041c1f43 button.colab-df-convert');\n",
              "        buttonEl.style.display =\n",
              "          google.colab.kernel.accessAllowed ? 'block' : 'none';\n",
              "\n",
              "        async function convertToInteractive(key) {\n",
              "          const element = document.querySelector('#df-cb48dffb-3fb8-4a2a-bbbb-7045041c1f43');\n",
              "          const dataTable =\n",
              "            await google.colab.kernel.invokeFunction('convertToInteractive',\n",
              "                                                     [key], {});\n",
              "          if (!dataTable) return;\n",
              "\n",
              "          const docLinkHtml = 'Like what you see? Visit the ' +\n",
              "            '<a target=\"_blank\" href=https://colab.research.google.com/notebooks/data_table.ipynb>data table notebook</a>'\n",
              "            + ' to learn more about interactive tables.';\n",
              "          element.innerHTML = '';\n",
              "          dataTable['output_type'] = 'display_data';\n",
              "          await google.colab.output.renderOutput(dataTable, element);\n",
              "          const docLink = document.createElement('div');\n",
              "          docLink.innerHTML = docLinkHtml;\n",
              "          element.appendChild(docLink);\n",
              "        }\n",
              "      </script>\n",
              "    </div>\n",
              "  </div>\n",
              "  "
            ]
          },
          "metadata": {},
          "execution_count": 3
        }
      ]
    },
    {
      "cell_type": "markdown",
      "source": [
        "## **1.1 Dataset Overview**"
      ],
      "metadata": {
        "id": "cdwrvA6E4836"
      }
    },
    {
      "cell_type": "markdown",
      "source": [
        "**Information about the attributes**"
      ],
      "metadata": {
        "id": "-rma43iE15ww"
      }
    },
    {
      "cell_type": "code",
      "source": [
        "# data.info()"
      ],
      "metadata": {
        "id": "TnnOHnQV1mLJ"
      },
      "execution_count": 4,
      "outputs": []
    },
    {
      "cell_type": "code",
      "source": [
        "# data.describe()"
      ],
      "metadata": {
        "id": "uh-NeYeZU0qC"
      },
      "execution_count": 5,
      "outputs": []
    },
    {
      "cell_type": "markdown",
      "source": [
        "**Data shape (Number of variable and observation)**"
      ],
      "metadata": {
        "id": "waDWQwdZ4kyo"
      }
    },
    {
      "cell_type": "code",
      "source": [
        "data.shape"
      ],
      "metadata": {
        "colab": {
          "base_uri": "https://localhost:8080/"
        },
        "id": "x_OL4FfD4geY",
        "outputId": "23532ce4-6853-4429-950c-2d86be7b3010"
      },
      "execution_count": 6,
      "outputs": [
        {
          "output_type": "execute_result",
          "data": {
            "text/plain": [
              "(1094, 34)"
            ]
          },
          "metadata": {},
          "execution_count": 6
        }
      ]
    },
    {
      "cell_type": "markdown",
      "source": [
        "**Variable types**"
      ],
      "metadata": {
        "id": "1AUKxNVt4tTA"
      }
    },
    {
      "cell_type": "code",
      "source": [
        "# def TypeCheck(df):\n",
        "#   cat_vars , num_vars = [], []\n",
        "\n",
        "#   for col in df.columns: \n",
        "#     if df[col].dtype == object:\n",
        "#         cat_vars.append(col)\n",
        "#     else: \n",
        "#         num_vars.append(col)\n",
        "  \n",
        "#   return cat_vars , num_vars"
      ],
      "metadata": {
        "id": "GkAhaCXh3AV4"
      },
      "execution_count": 7,
      "outputs": []
    },
    {
      "cell_type": "code",
      "source": [
        "# cat_cols, num_cols =  TypeCheck(data)\n",
        "# print(f'the data have {len(cat_cols)} Categorical Columns s follows:\\n {cat_cols}')\n",
        "# print(f'\\nthe data have {len(num_cols)} Numerical Columns s follows: \\n{num_cols}')"
      ],
      "metadata": {
        "id": "HLbm4_EkceGc"
      },
      "execution_count": 40,
      "outputs": []
    },
    {
      "cell_type": "code",
      "source": [
        "# dt_cats = data[cat_cols]\n",
        "# dt_nums = data[num_cols]"
      ],
      "metadata": {
        "id": "_yR6YrdLMuia"
      },
      "execution_count": 41,
      "outputs": []
    },
    {
      "cell_type": "markdown",
      "source": [
        "_________________\n",
        "<h1 align=\"center\"><span style='font-family:Georgia'>Data Cleaning</span></h1>\n",
        "\n",
        "_________________"
      ],
      "metadata": {
        "id": "IkfTF0HP5OXx"
      }
    },
    {
      "cell_type": "markdown",
      "source": [
        "### **2.1 Remove Duplicate Rows**"
      ],
      "metadata": {
        "id": "4f6RSy4Y5j-Y"
      }
    },
    {
      "cell_type": "code",
      "source": [
        "data.duplicated().sum()"
      ],
      "metadata": {
        "colab": {
          "base_uri": "https://localhost:8080/"
        },
        "id": "RZ8oVlzO43pA",
        "outputId": "0d441df3-1db5-4bc7-e0aa-dd41a5518b63"
      },
      "execution_count": 10,
      "outputs": [
        {
          "output_type": "execute_result",
          "data": {
            "text/plain": [
              "0"
            ]
          },
          "metadata": {},
          "execution_count": 10
        }
      ]
    },
    {
      "cell_type": "markdown",
      "source": [
        "> **OBSERVation**:\n",
        "- No duplication \n"
      ],
      "metadata": {
        "id": "-NNa1KEC5wbv"
      }
    },
    {
      "cell_type": "markdown",
      "source": [
        "### **2.2 Remove Irrelevant Data**\n",
        "\n"
      ],
      "metadata": {
        "id": "6FUUT-LRUYWb"
      }
    },
    {
      "cell_type": "markdown",
      "source": [
        "#### **Check Unique Values**\n"
      ],
      "metadata": {
        "id": "g_6-qjAkZYpT"
      }
    },
    {
      "cell_type": "code",
      "source": [
        "def CheckUniquness(df, n_unique=100):\n",
        "\n",
        "  ones = {}\n",
        "  more_than_n = {}\n",
        "\n",
        "  for col in df.columns: \n",
        "    n = len(df[col].unique())\n",
        "    if n == 1:\n",
        "      ones[col] = n\n",
        "    # categorical variable with too many unique values\n",
        "    elif n > n_unique and df[col].dtypes == object:\n",
        "      more_than_n[col] = n\n",
        "\n",
        "  return ones, more_than_n"
      ],
      "metadata": {
        "id": "ntwfVTO39sXA"
      },
      "execution_count": 319,
      "outputs": []
    },
    {
      "cell_type": "code",
      "source": [
        "ones, more_than_100 = CheckUniquness(data)\n",
        "print('Variables With One Unique Value:\\n', list(ones.keys()))\n",
        "print()\n",
        "print('=' * 100)\n",
        "print('\\nVariables With Unique Values Greater Then 100: \\n', list(more_than_100.keys()))"
      ],
      "metadata": {
        "colab": {
          "base_uri": "https://localhost:8080/"
        },
        "id": "pKhiA3sdiOj9",
        "outputId": "4fd0a2be-14d8-4104-8245-c4a3193709f0"
      },
      "execution_count": 320,
      "outputs": [
        {
          "output_type": "stream",
          "name": "stdout",
          "text": [
            "Variables With One Unique Value:\n",
            " ['currency_buyer', 'theme', 'crawl_month']\n",
            "\n",
            "====================================================================================================\n",
            "\n",
            "Variables With Unique Values Greater Then 100: \n",
            " ['tags', 'merchant_title', 'merchant_name', 'merchant_info_subtitle', 'merchant_id', 'merchant_profile_picture']\n"
          ]
        }
      ]
    },
    {
      "cell_type": "code",
      "source": [
        "data.has_urgency_banner.unique()"
      ],
      "metadata": {
        "colab": {
          "base_uri": "https://localhost:8080/"
        },
        "id": "swv_yjwNqnWe",
        "outputId": "3753590a-8932-4553-a1c6-15f8385e4e77"
      },
      "execution_count": 323,
      "outputs": [
        {
          "output_type": "execute_result",
          "data": {
            "text/plain": [
              "array([nan,  1.])"
            ]
          },
          "metadata": {},
          "execution_count": 323
        }
      ]
    },
    {
      "cell_type": "markdown",
      "source": [
        "> **OBSERVATION**\n",
        "- Features with single values: **drop** them.\n",
        "  - currency_buyer\n",
        "  - has_urgency_banner\n",
        "  - merchant_has_profile_picture\n",
        "  - theme\n",
        "  - crawl_month\n",
        "- Features with many unique values: **drop** them. \n",
        "  - tags\n",
        "  - merchant_title\n",
        "  - merchant_name\n",
        "  - merchant_info_subtitle\n",
        "  - merchant_id\n",
        "  - merchant_profile_picture"
      ],
      "metadata": {
        "id": "1u8SwE1M934w"
      }
    },
    {
      "cell_type": "code",
      "source": [
        "data.id.nunique()"
      ],
      "metadata": {
        "colab": {
          "base_uri": "https://localhost:8080/"
        },
        "id": "nzom8zKHOJl8",
        "outputId": "e17512b8-fd0c-41de-efd0-67db8be4dffc"
      },
      "execution_count": 370,
      "outputs": [
        {
          "output_type": "execute_result",
          "data": {
            "text/plain": [
              "1094"
            ]
          },
          "metadata": {},
          "execution_count": 370
        }
      ]
    },
    {
      "cell_type": "code",
      "source": [
        "data.urgency_text.unique()"
      ],
      "metadata": {
        "colab": {
          "base_uri": "https://localhost:8080/"
        },
        "id": "lq5ZjhTekQm9",
        "outputId": "1fb9947a-ef25-4b3b-e8c2-510224e9e286"
      },
      "execution_count": 371,
      "outputs": [
        {
          "output_type": "execute_result",
          "data": {
            "text/plain": [
              "array([nan, 'Quantité limitée !', 'Réduction sur les achats en gros'],\n",
              "      dtype=object)"
            ]
          },
          "metadata": {},
          "execution_count": 371
        }
      ]
    },
    {
      "cell_type": "code",
      "source": [
        "data.shipping_option_name.value_counts()"
      ],
      "metadata": {
        "colab": {
          "base_uri": "https://localhost:8080/"
        },
        "id": "iush5tZYRYTt",
        "outputId": "3476a372-0397-4671-da32-ac0423d4cd60"
      },
      "execution_count": 372,
      "outputs": [
        {
          "output_type": "execute_result",
          "data": {
            "text/plain": [
              "Livraison standard         1047\n",
              "Standard Shipping            16\n",
              "Envio Padrão                  6\n",
              "الشحن القياسي                 4\n",
              "Expediere Standard            4\n",
              "Envío normal                  3\n",
              "Standardversand               3\n",
              "Livraison Express             3\n",
              "Standardowa wysyłka           2\n",
              "Standart Gönderi              2\n",
              "Стандартная доставка          2\n",
              "Spedizione standard           1\n",
              "ការដឹកជញ្ជូនតាមស្តង់ដារ       1\n",
              "Name: shipping_option_name, dtype: int64"
            ]
          },
          "metadata": {},
          "execution_count": 372
        }
      ]
    },
    {
      "cell_type": "code",
      "source": [
        "data.origin_country.value_counts()"
      ],
      "metadata": {
        "colab": {
          "base_uri": "https://localhost:8080/"
        },
        "id": "ndZPZsbwR7EF",
        "outputId": "b016a84a-b534-49c7-db95-4826e8f97b4b"
      },
      "execution_count": 373,
      "outputs": [
        {
          "output_type": "execute_result",
          "data": {
            "text/plain": [
              "CN    1054\n",
              "US      22\n",
              "VE       3\n",
              "SG       2\n",
              "GB       1\n",
              "Name: origin_country, dtype: int64"
            ]
          },
          "metadata": {},
          "execution_count": 373
        }
      ]
    },
    {
      "cell_type": "markdown",
      "source": [
        "> **OBSERVATION**:\n",
        "- **`id`**: all the cells is unique. As a result, **drop** it. \n",
        "- **`urgency_text`, `product_variation_inventory`, `inventory_total`**: is irrelative column.\n",
        "- **`shipping_option_name`** and **`origin_country`** are imbalanced feature, as a result, **drop** them.  "
      ],
      "metadata": {
        "id": "BUOgHumnOCY1"
      }
    },
    {
      "cell_type": "markdown",
      "source": [
        "#### **Drop irrelevant variable**"
      ],
      "metadata": {
        "id": "nhYmE7f3mcqW"
      }
    },
    {
      "cell_type": "code",
      "source": [
        "print('Dataset shape before merchant_has_profile_picture columns',data.shape)\n",
        "\n",
        "droped_cols = ['currency_buyer','shipping_is_express', 'has_urgency_banner', 'merchant_has_profile_picture', 'theme', 'crawl_month','id','urgency_text',\n",
        "               'tags', 'merchant_title', 'merchant_name', 'merchant_info_subtitle', 'merchant_id', 'merchant_profile_picture', \n",
        "               'product_variation_inventory', 'inventory_total','shipping_option_name','origin_country']\n",
        "df1 = data.drop(droped_cols, axis = 1)\n",
        "\n",
        "print('Dataset shape after dropping columns',df1.shape)"
      ],
      "metadata": {
        "colab": {
          "base_uri": "https://localhost:8080/"
        },
        "id": "Bl8-4AFSc82c",
        "outputId": "a014d776-7e80-4925-a750-8ba10c5ef986"
      },
      "execution_count": 374,
      "outputs": [
        {
          "output_type": "stream",
          "name": "stdout",
          "text": [
            "Dataset shape before merchant_has_profile_picture columns (1094, 34)\n",
            "Dataset shape after dropping columns (1094, 16)\n"
          ]
        }
      ]
    },
    {
      "cell_type": "code",
      "source": [
        "df1.columns"
      ],
      "metadata": {
        "colab": {
          "base_uri": "https://localhost:8080/"
        },
        "id": "s43Eft4zNkAk",
        "outputId": "d1cbd53b-5d1d-48a7-a42a-b529c9d613ee"
      },
      "execution_count": 375,
      "outputs": [
        {
          "output_type": "execute_result",
          "data": {
            "text/plain": [
              "Index(['price', 'retail_price', 'units_sold', 'uses_ad_boosts', 'rating',\n",
              "       'rating_count', 'badges_count', 'badge_local_product',\n",
              "       'badge_product_quality', 'badge_fast_shipping', 'product_color',\n",
              "       'product_variation_size_id', 'shipping_option_price',\n",
              "       'countries_shipped_to', 'merchant_rating_count', 'merchant_rating'],\n",
              "      dtype='object')"
            ]
          },
          "metadata": {},
          "execution_count": 375
        }
      ]
    },
    {
      "cell_type": "markdown",
      "source": [
        "### **2.3 Handling Missing Values**  "
      ],
      "metadata": {
        "id": "wrvfF8KEn131"
      }
    },
    {
      "cell_type": "code",
      "source": [
        "n_nulls = df1.isna().sum()\n",
        "for index, n in zip(n_nulls.index,n_nulls): \n",
        "  if n:\n",
        "    print('In variables `',index, '` there are', n, 'missing cells')\n",
        "    print('=' * 80)"
      ],
      "metadata": {
        "colab": {
          "base_uri": "https://localhost:8080/"
        },
        "id": "Em7gqxDDoIf1",
        "outputId": "85a844a2-7477-4bfa-cb21-53f27c644fc3"
      },
      "execution_count": 405,
      "outputs": [
        {
          "output_type": "stream",
          "name": "stdout",
          "text": [
            "In variables ` product_color ` there are 29 missing cells\n",
            "================================================================================\n",
            "In variables ` product_variation_size_id ` there are 12 missing cells\n",
            "================================================================================\n"
          ]
        }
      ]
    },
    {
      "cell_type": "markdown",
      "source": [
        "> **OBSERVATION**\n",
        "- Percentage of missing cells in **`product_color`,`product_variation_size_id`,`origin_country`** is very low, as a result **drop** it."
      ],
      "metadata": {
        "id": "Vp8lYPdsTAFD"
      }
    },
    {
      "cell_type": "code",
      "source": [
        "print('Dataset shape before dropping nulls',df1.shape)\n",
        "df2 = df1.dropna()\n",
        "print('Dataset shape after dropping nulls',df2.shape)"
      ],
      "metadata": {
        "colab": {
          "base_uri": "https://localhost:8080/"
        },
        "id": "82FbI0Aap1Xt",
        "outputId": "2de56560-c218-4435-94ca-1a075c7162c1"
      },
      "execution_count": 406,
      "outputs": [
        {
          "output_type": "stream",
          "name": "stdout",
          "text": [
            "Dataset shape before dropping nulls (1094, 16)\n",
            "Dataset shape after dropping nulls (1053, 16)\n"
          ]
        }
      ]
    },
    {
      "cell_type": "code",
      "source": [
        "numerical_cols = ['price', 'retail_price', 'units_sold', 'rating_count', 'merchant_rating_count']\n",
        "cats_cols = list(np.setdiff1d(df2.columns, numerical_cols))\n",
        "df_nums = df2[numerical_cols]\n",
        "df_cats = df2[cats_cols]\n"
      ],
      "metadata": {
        "id": "2FL2W3XCPkIl"
      },
      "execution_count": 407,
      "outputs": []
    },
    {
      "cell_type": "markdown",
      "source": [
        "### **2.4 Handling Outlier**  \n",
        "The interquartile range method defines outliers as values larger than Q3 + 1.5 * IQR or the values smaller than Q1 – 1.5 * IQR.\n",
        "<img src = '' width=\"700\"> \n",
        "\n",
        "\n",
        "\n",
        "*   **Q1** = 25th quartile\n",
        "\n",
        "*   **Q3** = 75th quartile\n",
        "\n",
        "*   **IQR** =Q3 – Q1\n",
        "\n",
        "*   **Inner Fence**: The inner fence would be set 1.5 x IQR below Quartile 1 (Q1) and 1.5 x IQR above Q3.\n",
        "$$[Q1-1.5*IQR : Q3+1.5*IQR]$$\n"
      ],
      "metadata": {
        "id": "2m853R0x7egn"
      }
    },
    {
      "cell_type": "code",
      "source": [
        "# outliers = {}\n",
        "\n",
        "# for col in df_nums.columns:\n",
        "#   feature = df_nums[col].unique()\n",
        "#   q1, q3= np.percentile(feature,[25,75])\n",
        "#   iqr = q3 - q1\n",
        "#   lower_bound = q1 - (1.5 * q1)\n",
        "#   upper_bound = q3 + (1.5 * q3)\n",
        "#   outliers[col] = feature[(feature > upper_bound) | (feature < lower_bound)]\n",
        "# outliers"
      ],
      "metadata": {
        "id": "gJePA4MhUyDV"
      },
      "execution_count": 408,
      "outputs": []
    },
    {
      "cell_type": "code",
      "source": [
        "# def TypeCheck(df):\n",
        "#   cat_vars , num_vars = [], []\n",
        "\n",
        "#   for col in df.columns: \n",
        "#     if df[col].dtype == object:\n",
        "#         cat_vars.append(col)\n",
        "#     else: \n",
        "#         num_vars.append(col)\n",
        "  \n",
        "#   return cat_vars , num_vars"
      ],
      "metadata": {
        "id": "aQ6r2okJMzPD"
      },
      "execution_count": 409,
      "outputs": []
    },
    {
      "cell_type": "code",
      "source": [
        "# cat_cols, num_cols =  TypeCheck(df3)\n",
        "# df4 = df3[cat_cols].astype('category')\n",
        "# fig.subplots_adjust(left=0.08, right=0.98, bottom=0.03, top=0.9,hspace=0.4, wspace=0.3)\n"
      ],
      "metadata": {
        "id": "2-jR-YLvrXj9"
      },
      "execution_count": 410,
      "outputs": []
    },
    {
      "cell_type": "markdown",
      "source": [
        "_________________\n",
        "<h1 align=\"center\"><span style='font-family:Georgia'> Data Exploratory Analysis(EDA)</span></h1>\n",
        "\n",
        "_________________"
      ],
      "metadata": {
        "id": "Ej0LQr07spcm"
      }
    },
    {
      "cell_type": "markdown",
      "source": [
        "_________________\n",
        "<h1 align=\"center\"><span style='font-family:Georgia'>Feature Engineering</span></h1>\n",
        "\n",
        "_________________"
      ],
      "metadata": {
        "id": "176DHfVIvJa1"
      }
    },
    {
      "cell_type": "markdown",
      "source": [
        "### **3.4 Check Numerical Feature Distribution**  \n"
      ],
      "metadata": {
        "id": "k23gwKqtz91Q"
      }
    },
    {
      "cell_type": "code",
      "source": [
        "# plt.style.use('fivethirtyeight')\n",
        "# sns.set(rc={\"figure.figsize\":(20,8)})\n",
        "\n",
        "# fig, axs = plt.subplots(2,3)\n",
        "# for i, col in enumerate(numerical_cols):\n",
        "#  axs[i//3,i%3].boxplot(df_nums[col],patch_artist=True)#, vert=True)\n",
        "#  axs[i//3,i%3].set_xlabel(col)\n",
        "\n",
        "# plt.show()"
      ],
      "metadata": {
        "id": "Jgi2nbkHb7sd"
      },
      "execution_count": 411,
      "outputs": []
    },
    {
      "cell_type": "code",
      "source": [
        "fig, axs = plt.subplots(2,3)\n",
        "for i, col in enumerate(numerical_cols):\n",
        "  # sns.histplot(df_nums[col],ax = axs[i//3,i%3])\n",
        "  sns.kdeplot(df_nums[col],ax = axs[i//3,i%3], color = 'red')\n",
        "  axs[i//3,i%3].text(x=0.97, y=0.97, transform=axs[i//3,i%3].transAxes, s=\"Skewness: %f\" % df_nums[col].skew(),\\\n",
        "      fontsize=14, verticalalignment='top', horizontalalignment='right')\n",
        "  axs[i//3,i%3].text(x=0.97, y=0.85, transform=axs[i//3,i%3].transAxes, s=\"Kurtosis: %f\" % df_nums[col].kurt(),\\\n",
        "      fontsize=14, verticalalignment='top', horizontalalignment='right')\n",
        "\n",
        "plt.show()"
      ],
      "metadata": {
        "colab": {
          "base_uri": "https://localhost:8080/",
          "height": 381
        },
        "id": "6yWFsYUrw9fQ",
        "outputId": "141d7472-3be0-4397-d59e-c4b4d4dc4d2d"
      },
      "execution_count": 412,
      "outputs": [
        {
          "output_type": "display_data",
          "data": {
            "text/plain": [
              "<Figure size 1440x576 with 6 Axes>"
            ],
            "image/png": "[encoded data removed]"
          },
          "metadata": {}
        }
      ]
    },
    {
      "cell_type": "code",
      "execution_count": 413,
      "metadata": {
        "id": "Ja_kWFy9NdsR"
      },
      "outputs": [],
      "source": [
        "# def Decriptive_stats(feature):\n",
        "#   print(f'\\n{feature.name} Description:') \n",
        "#   print('-' * 30)\n",
        "#   print(feature.describe())\n",
        "#   print(f'{feature.name} Skew: ',feature.skew())\n",
        "#   print('-' * 50)\n",
        "#   print(f'{feature.name} kurtosis:', feature.kurt())\n",
        "#   print('=' * 100)"
      ]
    },
    {
      "cell_type": "code",
      "source": [
        "# for i, col in enumerate(df_nums.columns):\n",
        "#   Decriptive_stats(df_nums[col])"
      ],
      "metadata": {
        "id": "lSmofiZtqai3"
      },
      "execution_count": 414,
      "outputs": []
    },
    {
      "cell_type": "markdown",
      "source": [
        "### **2.4 Handling Categorical Data** "
      ],
      "metadata": {
        "id": "CyoW4qeJbrkL"
      }
    },
    {
      "cell_type": "code",
      "source": [
        "df2.rating.value_counts()"
      ],
      "metadata": {
        "colab": {
          "base_uri": "https://localhost:8080/"
        },
        "id": "2dFzAyld2P8h",
        "outputId": "c14f8bf6-1db3-4d04-8361-632b962567ba"
      },
      "execution_count": 415,
      "outputs": [
        {
          "output_type": "execute_result",
          "data": {
            "text/plain": [
              "4.0    751\n",
              "5.0    156\n",
              "3.0    131\n",
              "2.0     12\n",
              "1.0      2\n",
              "6.0      1\n",
              "Name: rating, dtype: int64"
            ]
          },
          "metadata": {},
          "execution_count": 415
        }
      ]
    },
    {
      "cell_type": "code",
      "source": [
        "df2 = df2.drop(df1[df1.rating == 6].index, axis = 0)\n",
        "df2.rating.value_counts()"
      ],
      "metadata": {
        "id": "J4ey38nr2RMx",
        "colab": {
          "base_uri": "https://localhost:8080/"
        },
        "outputId": "93626266-da04-4fc4-aed0-94f81de1b7a9"
      },
      "execution_count": 416,
      "outputs": [
        {
          "output_type": "execute_result",
          "data": {
            "text/plain": [
              "4.0    751\n",
              "5.0    156\n",
              "3.0    131\n",
              "2.0     12\n",
              "1.0      2\n",
              "Name: rating, dtype: int64"
            ]
          },
          "metadata": {},
          "execution_count": 416
        }
      ]
    },
    {
      "cell_type": "code",
      "source": [],
      "metadata": {
        "id": "g2fiml3x2p54"
      },
      "execution_count": 416,
      "outputs": []
    },
    {
      "cell_type": "code",
      "source": [
        "def rating_values_per_cols(by):\n",
        "  col = df_cats.groupby(['product_color', 'rating']).agg({'rating':'count'})\n",
        "  col.rename({'rating':'value'}, axis=1,inplace = True)\n",
        "  col.insert(0,'rating',col.index.get_level_values(0))\n",
        "  col.insert(1,by,col.index.get_level_values(1))\n",
        "  col = col.reset_index(drop = True)\n",
        "  return col\n"
      ],
      "metadata": {
        "id": "m6l0yXutrxCI"
      },
      "execution_count": 441,
      "outputs": []
    },
    {
      "cell_type": "code",
      "source": [
        "by = 'product_color'\n",
        "colors = rating_values_per_cols(by)\n",
        "df_cats[(df_cats.product_color == 'Black') or (df_cats.product_color == 'black')]#['rating'].value_counts()"
      ],
      "metadata": {
        "colab": {
          "base_uri": "https://localhost:8080/",
          "height": 338
        },
        "id": "WXS5Lmhz7h2J",
        "outputId": "4ac420ee-5db9-4875-90d6-6fb268e1b9b1"
      },
      "execution_count": 464,
      "outputs": [
        {
          "output_type": "error",
          "ename": "ValueError",
          "evalue": "ignored",
          "traceback": [
            "\u001b[0;31m---------------------------------------------------------------------------\u001b[0m",
            "\u001b[0;31mValueError\u001b[0m                                Traceback (most recent call last)",
            "\u001b[0;32m<ipython-input-464-14bb5476a3ea>\u001b[0m in \u001b[0;36m<module>\u001b[0;34m\u001b[0m\n\u001b[1;32m      1\u001b[0m \u001b[0mby\u001b[0m \u001b[0;34m=\u001b[0m \u001b[0;34m'product_color'\u001b[0m\u001b[0;34m\u001b[0m\u001b[0;34m\u001b[0m\u001b[0m\n\u001b[1;32m      2\u001b[0m \u001b[0mcolors\u001b[0m \u001b[0;34m=\u001b[0m \u001b[0mrating_values_per_cols\u001b[0m\u001b[0;34m(\u001b[0m\u001b[0mby\u001b[0m\u001b[0;34m)\u001b[0m\u001b[0;34m\u001b[0m\u001b[0;34m\u001b[0m\u001b[0m\n\u001b[0;32m----> 3\u001b[0;31m \u001b[0mdf_cats\u001b[0m\u001b[0;34m[\u001b[0m\u001b[0;34m(\u001b[0m\u001b[0mdf_cats\u001b[0m\u001b[0;34m.\u001b[0m\u001b[0mproduct_color\u001b[0m \u001b[0;34m==\u001b[0m \u001b[0;34m'Black'\u001b[0m\u001b[0;34m)\u001b[0m \u001b[0;32mor\u001b[0m \u001b[0;34m(\u001b[0m\u001b[0mdf_cats\u001b[0m\u001b[0;34m.\u001b[0m\u001b[0mproduct_color\u001b[0m \u001b[0;34m==\u001b[0m \u001b[0;34m'black'\u001b[0m\u001b[0;34m)\u001b[0m\u001b[0;34m]\u001b[0m\u001b[0;31m#['rating'].value_counts()\u001b[0m\u001b[0;34m\u001b[0m\u001b[0;34m\u001b[0m\u001b[0m\n\u001b[0m",
            "\u001b[0;32m/usr/local/lib/python3.9/dist-packages/pandas/core/generic.py\u001b[0m in \u001b[0;36m__nonzero__\u001b[0;34m(self)\u001b[0m\n\u001b[1;32m   1525\u001b[0m     \u001b[0;34m@\u001b[0m\u001b[0mfinal\u001b[0m\u001b[0;34m\u001b[0m\u001b[0;34m\u001b[0m\u001b[0m\n\u001b[1;32m   1526\u001b[0m     \u001b[0;32mdef\u001b[0m \u001b[0m__nonzero__\u001b[0m\u001b[0;34m(\u001b[0m\u001b[0mself\u001b[0m\u001b[0;34m)\u001b[0m\u001b[0;34m:\u001b[0m\u001b[0;34m\u001b[0m\u001b[0;34m\u001b[0m\u001b[0m\n\u001b[0;32m-> 1527\u001b[0;31m         raise ValueError(\n\u001b[0m\u001b[1;32m   1528\u001b[0m             \u001b[0;34mf\"The truth value of a {type(self).__name__} is ambiguous. \"\u001b[0m\u001b[0;34m\u001b[0m\u001b[0;34m\u001b[0m\u001b[0m\n\u001b[1;32m   1529\u001b[0m             \u001b[0;34m\"Use a.empty, a.bool(), a.item(), a.any() or a.all().\"\u001b[0m\u001b[0;34m\u001b[0m\u001b[0;34m\u001b[0m\u001b[0m\n",
            "\u001b[0;31mValueError\u001b[0m: The truth value of a Series is ambiguous. Use a.empty, a.bool(), a.item(), a.any() or a.all()."
          ]
        }
      ]
    },
    {
      "cell_type": "code",
      "source": [
        "sizes = df_cats['product_variation_size_id'].value_counts(ascending = False)[:5]\n",
        "sizes['others'] = df_cats['product_variation_size_id'].value_counts(ascending = False)[5:].sum()\n",
        "\n",
        "sizes.plot.bar(fontsize = 18,width=0.7)\n",
        "plt.title('The top 10 sizes',fontsize = 18)\n",
        "plt.show()"
      ],
      "metadata": {
        "colab": {
          "base_uri": "https://localhost:8080/",
          "height": 425
        },
        "id": "Ih0eKAePlWc9",
        "outputId": "e3713ebb-f2fe-4a34-ba08-b73b312c133c"
      },
      "execution_count": 389,
      "outputs": [
        {
          "output_type": "display_data",
          "data": {
            "text/plain": [
              "<Figure size 1440x576 with 1 Axes>"
            ],
            "image/png": "[encoded data removed]"
          },
          "metadata": {}
        }
      ]
    },
    {
      "cell_type": "code",
      "source": [
        "countr = df_cats['countries_shipped_to'].value_counts(ascending = False)[:5]\n",
        "sizes['others'] = df_cats['countries_shipped_to'].value_counts(ascending = False)[5:].sum()\n",
        "\n",
        "sizes.plot.bar(fontsize = 18,width=0.7)\n",
        "plt.title('The top 10 sizes',fontsize = 18)\n",
        "plt.show()"
      ],
      "metadata": {
        "colab": {
          "base_uri": "https://localhost:8080/",
          "height": 425
        },
        "id": "-RUg0PV6qA9u",
        "outputId": "ec994bf3-8dcc-4979-91cf-3c4029f27026"
      },
      "execution_count": 390,
      "outputs": [
        {
          "output_type": "display_data",
          "data": {
            "text/plain": [
              "<Figure size 1440x576 with 1 Axes>"
            ],
            "image/png": "[encoded data removed]"
          },
          "metadata": {}
        }
      ]
    },
    {
      "cell_type": "code",
      "source": [],
      "metadata": {
        "id": "TfLVFkRo28qs"
      },
      "execution_count": 390,
      "outputs": []
    }
  ]
}